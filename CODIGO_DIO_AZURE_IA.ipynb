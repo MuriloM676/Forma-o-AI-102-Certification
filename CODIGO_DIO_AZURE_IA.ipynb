{
  "nbformat": 4,
  "nbformat_minor": 0,
  "metadata": {
    "colab": {
      "provenance": [],
      "authorship_tag": "ABX9TyMMTJucqMllZtH61fYjFkft",
      "include_colab_link": true
    },
    "kernelspec": {
      "name": "python3",
      "display_name": "Python 3"
    },
    "language_info": {
      "name": "python"
    }
  },
  "cells": [
    {
      "cell_type": "markdown",
      "metadata": {
        "id": "view-in-github",
        "colab_type": "text"
      },
      "source": [
        "<a href=\"https://colab.research.google.com/github/MuriloM676/Forma-o-AI-102-Certification/blob/main/CODIGO_DIO_AZURE_IA.ipynb\" target=\"_parent\"><img src=\"https://colab.research.google.com/assets/colab-badge.svg\" alt=\"Open In Colab\"/></a>"
      ]
    },
    {
      "cell_type": "code",
      "execution_count": null,
      "metadata": {
        "id": "QBBfUu04IsXR"
      },
      "outputs": [],
      "source": [
        "!pip install requests beautifulsoup4 openai langchain-openai"
      ]
    },
    {
      "cell_type": "code",
      "source": [
        "import requests\n",
        "from bs4 import BeautifulSoup\n",
        "import openai\n",
        "\n",
        "def extrair_texto(url):\n",
        "  response = requests.get(url)\n",
        "\n",
        "  if response.status_code == 200:\n",
        "    soup = BeautifulSoup(response.text, 'html.parser')\n",
        "    for script_or_style in soup(['script', 'style']):\n",
        "      script_or_style.decompose()\n",
        "    texto = soup.get_text(separator= ' ')\n",
        "\n",
        "    #Limpar texto\n",
        "    linhas = (line.strip() for line in texto.splitlines())\n",
        "    parts = (phrase.strip() for line in linhas for phrase in line.split(\"   \"))\n",
        "    texto_limpo = '\\n'.join(part for part in parts if part)\n",
        "    return texto_limpo\n",
        "  else:\n",
        "    print('Erro ao acessar a página')\n",
        "    return None\n",
        "\n",
        "  texto = soup.get_text()\n",
        "  return texto\n",
        "\n",
        "extrair_texto('https://dev.to/kenakamu/azure-open-ai-in-vnet-3alo')"
      ],
      "metadata": {
        "id": "nO9h8NEUI3PG"
      },
      "execution_count": null,
      "outputs": []
    },
    {
      "cell_type": "code",
      "source": [
        "from langchain_openai.chat_models.azure import AzureChatOpenAI\n",
        "\n",
        "client = AzureChatOpenAI(\n",
        "    azure_endpoint=\"\",\n",
        "    azure_api_key=\"\",\n",
        "    azure_deployment_name=\"\",\n",
        "    api_version=\"\",\n",
        "    max_retries=0\n",
        ")\n",
        "\n",
        "def translate_article(text, lang):\n",
        "  messages = [\n",
        "      (\"system\" , \"Você atua como tradutor de textos\"),\n",
        "      (\"user\", f\"traduza o {text} para o idioma {lang} e responda em markdown\")\n",
        "  ]\n",
        "\n",
        "  response = client.invoke(messages)\n",
        "  print(response.content)\n",
        "\n",
        "translate_article(extrair_texto('https://dev.to/kenakamu/azure-open-ai-in-vnet-3alo'), 'portugues')"
      ],
      "metadata": {
        "id": "bejtgs_BMPeQ"
      },
      "execution_count": null,
      "outputs": []
    },
    {
      "cell_type": "code",
      "source": [
        "url = 'https://dev.to/kenakamu/azure-open-ai-in-vnet-3alo'\n",
        "texto = extrair_texto(url)\n",
        "article = translate_article(texto, 'portugues')\n",
        "print(article)"
      ],
      "metadata": {
        "id": "sr1v0qzYOGWl"
      },
      "execution_count": null,
      "outputs": []
    }
  ]
}